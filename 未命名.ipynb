{
 "cells": [
  {
   "cell_type": "code",
   "execution_count": 9,
   "metadata": {},
   "outputs": [
    {
     "name": "stderr",
     "output_type": "stream",
     "text": [
      "/Users/lipeipei/.virtualenvs/ai/lib/python3.7/site-packages/matplotlib/backends/backend_agg.py:211: RuntimeWarning: Glyph 28857 missing from current font.\n",
      "  font.set_text(s, 0.0, flags=flags)\n",
      "/Users/lipeipei/.virtualenvs/ai/lib/python3.7/site-packages/matplotlib/backends/backend_agg.py:211: RuntimeWarning: Glyph 20998 missing from current font.\n",
      "  font.set_text(s, 0.0, flags=flags)\n",
      "/Users/lipeipei/.virtualenvs/ai/lib/python3.7/site-packages/matplotlib/backends/backend_agg.py:180: RuntimeWarning: Glyph 28857 missing from current font.\n",
      "  font.set_text(s, 0, flags=flags)\n",
      "/Users/lipeipei/.virtualenvs/ai/lib/python3.7/site-packages/matplotlib/backends/backend_agg.py:180: RuntimeWarning: Glyph 20998 missing from current font.\n",
      "  font.set_text(s, 0, flags=flags)\n"
     ]
    },
    {
     "data": {
      "image/png": "[encoded data removed]",
      "text/plain": [
       "<Figure size 432x288 with 1 Axes>"
      ]
     },
     "metadata": {
      "needs_background": "light"
     },
     "output_type": "display_data"
    }
   ],
   "source": [
    "import matplotlib.pyplot as plt \n",
    "import random\n",
    "x = range(60)\n",
    "y_shanghai = [random.uniform(15, 18) for i in x]\n",
    "x_ticks_label = [\"11点{}分\".format(i) for i in x]\n",
    "# 构造y轴刻度\n",
    "y_ticks = range(40)\n",
    "\n",
    "# 修改x,y轴坐标的刻度显示\n",
    "plt.xticks(x[::5], x_ticks_label[::5])\n",
    "plt.yticks(y_ticks[::5])\n",
    "plt.show()"
   ]
  },
  {
   "cell_type": "code",
   "execution_count": null,
   "metadata": {},
   "outputs": [],
   "source": []
  }
 ],
 "metadata": {
  "kernelspec": {
   "display_name": "Python 3",
   "language": "python",
   "name": "python3"
  },
  "language_info": {
   "codemirror_mode": {
    "name": "ipython",
    "version": 3
   },
   "file_extension": ".py",
   "mimetype": "text/x-python",
   "name": "python",
   "nbconvert_exporter": "python",
   "pygments_lexer": "ipython3",
   "version": "3.7.0"
  }
 },
 "nbformat": 4,
 "nbformat_minor": 2
}
